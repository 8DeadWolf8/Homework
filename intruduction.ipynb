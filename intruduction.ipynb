{
  "nbformat": 4,
  "nbformat_minor": 0,
  "metadata": {
    "colab": {
      "name": "intruduction.ipynb",
      "provenance": [],
      "collapsed_sections": [
        "xdcRvHK0tQAC",
        "SeWfOBgA47q7"
      ],
      "authorship_tag": "ABX9TyMlCZBToSkRA/ZYKwNUlMgC",
      "include_colab_link": true
    },
    "kernelspec": {
      "name": "python3",
      "display_name": "Python 3"
    },
    "language_info": {
      "name": "python"
    }
  },
  "cells": [
    {
      "cell_type": "markdown",
      "metadata": {
        "id": "view-in-github",
        "colab_type": "text"
      },
      "source": [
        "<a href=\"https://colab.research.google.com/github/8DeadWolf8/Homework/blob/main/intruduction.ipynb\" target=\"_parent\"><img src=\"https://colab.research.google.com/assets/colab-badge.svg\" alt=\"Open In Colab\"/></a>"
      ]
    },
    {
      "cell_type": "markdown",
      "metadata": {
        "id": "ZqRfioSiRJFN"
      },
      "source": [
        "# INTRODUCTION TO PYTHON"
      ]
    },
    {
      "cell_type": "markdown",
      "metadata": {
        "id": "XvksY54IV8fL"
      },
      "source": [
        "![descarga.png](data:image/png;base64,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)"
      ]
    },
    {
      "cell_type": "markdown",
      "metadata": {
        "id": "xdcRvHK0tQAC"
      },
      "source": [
        "## **History of python**"
      ]
    },
    {
      "cell_type": "code",
      "metadata": {
        "colab": {
          "base_uri": "https://localhost:8080/"
        },
        "id": "tLV23RTSuZkw",
        "outputId": "0c54ab8e-e8a8-4235-c505-7bc1a132974c"
      },
      "source": [
        "print(\"python is a programming language that stands out for being easy to learn for beginners in addition to being widely used today\") "
      ],
      "execution_count": null,
      "outputs": [
        {
          "output_type": "stream",
          "name": "stdout",
          "text": [
            "python is a programming language that stands out for being easy to learn for beginners in addition to being widely used today\n"
          ]
        }
      ]
    },
    {
      "cell_type": "code",
      "metadata": {
        "colab": {
          "base_uri": "https://localhost:8080/"
        },
        "id": "CfBbTsrMusNk",
        "outputId": "9e627ae5-fd7a-4a80-8d3a-285e4f24ca56"
      },
      "source": [
        "print(\"Its implementation began in December 1989 when at Christmas Guido Van Rossum who worked at the CWI decided to start\")\n",
        "print(\"the project as a hobby giving continuity to the ABC programming language of which he had been part of the development\")\n",
        "print(\"team at the CWI. in being easy to use and learn while maintaining power in its performance, but the hardware available\")\n",
        "print(\"at the time of its creation made it difficult to use and the project did not transcend as expected.\")\n"
      ],
      "execution_count": null,
      "outputs": [
        {
          "output_type": "stream",
          "name": "stdout",
          "text": [
            "Its implementation began in December 1989 when at Christmas Guido Van Rossum who worked at the CWI decided to start\n",
            "the project as a hobby giving continuity to the ABC programming language of which he had been part of the development\n",
            "team at the CWI. in being easy to use and learn while maintaining power in its performance, but the hardware available\n",
            "at the time of its creation made it difficult to use and the project did not transcend as expected.\n"
          ]
        }
      ]
    },
    {
      "cell_type": "markdown",
      "metadata": {
        "id": "t53ymlQXwnqQ"
      },
      "source": [
        "![imagen](https://upload.wikimedia.org/wikipedia/commons/6/66/Guido_van_Rossum_OSCON_2006.jpg) "
      ]
    },
    {
      "cell_type": "markdown",
      "metadata": {
        "id": "yNgXvGH4xVX7"
      },
      "source": [
        "##**Print statement**"
      ]
    },
    {
      "cell_type": "markdown",
      "metadata": {
        "id": "zpz3d6rh28XU"
      },
      "source": [
        "So that python can show us text it is necessary to use the print command\n",
        "for instance\n",
        "**print (\"Hello\")**\n",
        "in this way it will show us on the screen only the \"Hello\""
      ]
    },
    {
      "cell_type": "code",
      "metadata": {
        "colab": {
          "base_uri": "https://localhost:8080/"
        },
        "id": "25WuwxP93K29",
        "outputId": "982f98d9-dcc1-4fcc-b63e-a72eca80c42c"
      },
      "source": [
        "print(\"Something very important and to bear in mind is that:\")\n",
        "print(\"-print()is a function, so the content must always be in parentheses.\")\n",
        "print(\"-When print () includes an expression, it is evaluated before being displayed.\")\n",
        "print(\"Print () can print multiple expressions separated by commas or through the strings 'f'.\")\n",
        "print(\"-At the end of each print (), Python automatically adds a newline, unlike other languages ​​where you have to specify\")\n",
        "print(\"-If you want Python not to add a newline to the end of a print (), you must add the end = argument at the end.\")\n"
      ],
      "execution_count": null,
      "outputs": [
        {
          "output_type": "stream",
          "name": "stdout",
          "text": [
            "Something very important and to bear in mind is that:\n",
            "-print()is a function, so the content must always be in parentheses.\n",
            "-When print () includes an expression, it is evaluated before being displayed.\n",
            "Print () can print multiple expressions separated by commas or through the strings 'f'.\n",
            "-At the end of each print (), Python automatically adds a newline, unlike other languages ​​where you have to specify\n",
            "-If you want Python not to add a newline to the end of a print (), you must add the end = argument at the end.\n"
          ]
        }
      ]
    },
    {
      "cell_type": "markdown",
      "metadata": {
        "id": "lxi-Zc1fVKe_"
      },
      "source": [
        "**example**"
      ]
    },
    {
      "cell_type": "markdown",
      "metadata": {
        "id": "kUUHdvjgVMg-"
      },
      "source": [
        "print (\"Hello\")\n",
        "\n",
        "print ()\n",
        "\n",
        "print (\"Goodbye\")"
      ]
    },
    {
      "cell_type": "markdown",
      "metadata": {
        "id": "SeWfOBgA47q7"
      },
      "source": [
        "## **if-else statement**"
      ]
    },
    {
      "cell_type": "code",
      "metadata": {
        "colab": {
          "base_uri": "https://localhost:8080/"
        },
        "id": "QOx9Rgpq5MjM",
        "outputId": "41f67995-1871-447f-8947-a455774917e6"
      },
      "source": [
        "print(\"The if-else control structure allows a program to execute some instructions when a condition is met and other instructions when that condition is not met.\")"
      ],
      "execution_count": null,
      "outputs": [
        {
          "output_type": "stream",
          "name": "stdout",
          "text": [
            "The if-else control structure allows a program to execute some instructions when a condition is met and other instructions when that condition is not met.\n"
          ]
        }
      ]
    },
    {
      "cell_type": "code",
      "metadata": {
        "colab": {
          "base_uri": "https://localhost:8080/"
        },
        "id": "n4X5TWsQ5ug6",
        "outputId": "cbe5e61e-aaf9-406a-e41d-1170c58114ff"
      },
      "source": [
        "print(\"For example, if you plan to execute two options but you have to ask the operator if it executes the first option, in case it says that if then it would enter the if statement and if not then it would go to the else statement\")"
      ],
      "execution_count": null,
      "outputs": [
        {
          "output_type": "stream",
          "name": "stdout",
          "text": [
            "For example, if you plan to execute two options but you have to ask the operator if it executes the first option, in case it says that if then it would enter the if statement and if not then it would go to the else statement\n"
          ]
        }
      ]
    },
    {
      "cell_type": "code",
      "metadata": {
        "colab": {
          "base_uri": "https://localhost:8080/"
        },
        "id": "yE51FtqH8x37",
        "outputId": "43c1243f-ac5f-43c4-9eae-a357a3b2e3ef"
      },
      "source": [
        "print(\"The execution of this construction is as follows:\") \n",
        "print(\"-If the result is True, only statement block 1 is executed\")\n",
        "print(\"If the result is False, only statement block 2 is executed.\")\n",
        "print(\"A conditional statement can itself contain another nested statement.\")"
      ],
      "execution_count": null,
      "outputs": [
        {
          "output_type": "stream",
          "name": "stdout",
          "text": [
            "The execution of this construction is as follows:\n",
            "-If the result is True, only statement block 1 is executed\n",
            "If the result is False, only statement block 2 is executed.\n",
            "A conditional statement can itself contain another nested statement.\n"
          ]
        }
      ]
    },
    {
      "cell_type": "markdown",
      "metadata": {
        "id": "6T0cAVPNUI8Z"
      },
      "source": [
        "**example**"
      ]
    },
    {
      "cell_type": "markdown",
      "metadata": {
        "id": "b2Wr23QuUR6D"
      },
      "source": [
        "age = int (input (\"How old are you?\"))\n",
        "\n",
        "if age <18:\n",
        "\n",
        "    print (\"You are a minor\")\n",
        "if age> = 18:\n",
        "\n",
        "    print (\"You are of legal age\")\n",
        "\n",
        "print (\"Until next time!\")"
      ]
    },
    {
      "cell_type": "markdown",
      "metadata": {
        "id": "0wQALTXxQKl3"
      },
      "source": [
        "## **Loop** "
      ]
    },
    {
      "cell_type": "code",
      "metadata": {
        "colab": {
          "base_uri": "https://localhost:8080/"
        },
        "id": "2onBVNo2QSqF",
        "outputId": "46f68f08-0be8-4bde-93b9-d4e48446fcd6"
      },
      "source": [
        "print(\"a loop is a control structure that repeats a block of instructions. A for loop is a loop that repeats the statement block\")  \n",
        "print(\"a predetermined number of times. The block of instructions that is repeated is usually called the body of the loop, and each repetition is usually called an iteration.\")\n"
      ],
      "execution_count": null,
      "outputs": [
        {
          "output_type": "stream",
          "name": "stdout",
          "text": [
            "a loop is a control structure that repeats a block of instructions. A for loop is a loop that repeats the statement block\n",
            "a predetermined number of times. The block of instructions that is repeated is usually called the body of the loop, and each repetition is usually called an iteration.\n"
          ]
        }
      ]
    },
    {
      "cell_type": "markdown",
      "metadata": {
        "id": "ipvYvaIHS0Ra"
      },
      "source": [
        "###Break statement"
      ]
    },
    {
      "cell_type": "code",
      "metadata": {
        "colab": {
          "base_uri": "https://localhost:8080/"
        },
        "id": "4qHxFK0BS681",
        "outputId": "be5738d8-93a7-4423-e122-82b5031c2abe"
      },
      "source": [
        "print(\"Being loops, it makes the conditions or what is indicated be repeated, and there will come a point where we decide to end the loop and for that we need the break statement\")\n",
        "print(\"With the break statement, we can stop the loop before it has gone through all the elements\")\n"
      ],
      "execution_count": null,
      "outputs": [
        {
          "output_type": "stream",
          "name": "stdout",
          "text": [
            "Being loops, it makes the conditions or what is indicated be repeated, and there will come a point where we decide to end the loop and for that we need the break statement\n",
            "With the break statement, we can stop the loop before it has gone through all the elements\n"
          ]
        }
      ]
    },
    {
      "cell_type": "markdown",
      "metadata": {
        "id": "4TB4kG_dT3aQ"
      },
      "source": [
        "**example**"
      ]
    },
    {
      "cell_type": "markdown",
      "metadata": {
        "id": "dv0LQb9MT6xj"
      },
      "source": [
        "fruits = [\"México\", \"Colombia\", \"Chile\"]\n",
        "\n",
        "for x in países:\n",
        "\n",
        "if x == \"México\":\n",
        "\n",
        "break print(x)\n",
        "\n",
        "print (x) "
      ]
    }
  ]
}